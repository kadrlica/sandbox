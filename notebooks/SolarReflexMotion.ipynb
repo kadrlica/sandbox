{
 "cells": [
  {
   "cell_type": "markdown",
   "metadata": {},
   "source": [
    "# Solar Reflex Motion\n",
    "\n",
    "This notebook is aimed at investigating the calculation of solar reflex motion -- the vector correction for the motion of the sun around the Galaxy.\n",
    "\n",
    "Developed based on Adrian Price-Whelan's Gala example [here](https://github.com/adrn/gala/blob/master/docs/coordinates/index.rst)"
   ]
  },
  {
   "cell_type": "code",
   "execution_count": 3,
   "metadata": {},
   "outputs": [],
   "source": [
    "import astropy\n",
    "import astropy.coordinates as coord\n",
    "import astropy.units as u\n"
   ]
  },
  {
   "cell_type": "code",
   "execution_count": 4,
   "metadata": {},
   "outputs": [
    {
     "name": "stdout",
     "output_type": "stream",
     "text": [
      "astropy v.3.0.4\n"
     ]
    }
   ],
   "source": [
    "print('astropy v.%s'%astropy.__version__)"
   ]
  },
  {
   "cell_type": "markdown",
   "metadata": {},
   "source": [
    "Our first task is to define a 6D phase space coordinate. This is defined in the heliocentric reference frame for both position (ra, dec, distance) and velocity (proper motion and radial velocity). We define a set of keyword arguments first, and then create the `SkyCoord` itself."
   ]
  },
  {
   "cell_type": "code",
   "execution_count": 14,
   "metadata": {},
   "outputs": [],
   "source": [
    "# From Simon 2018 (https://arxiv.org/abs/1804.10230)\n",
    "kwargs = dict(ra  =  54 * u.deg,\n",
    "              dec = -54 * u.deg,\n",
    "              distance = 31e3 * u.pc,\n",
    "              pm_ra_cosdec=2.393*u.mas/u.yr,\n",
    "              pm_dec=-1.300*u.mas/u.yr,\n",
    "              radial_velocity=62.8*u.km/u.s              \n",
    "             )\n",
    "\n",
    "c = coord.SkyCoord(**kwargs)"
   ]
  },
  {
   "cell_type": "markdown",
   "metadata": {},
   "source": [
    "Following the Price-Whelan example, we can now transform to a Galactocentric reference frame. Note that this is **both** the Galactic Standard of Rest (GSR) in velocity space **and** the Galactocentric spatial coordinate reference frame."
   ]
  },
  {
   "cell_type": "code",
   "execution_count": 25,
   "metadata": {},
   "outputs": [
    {
     "name": "stdout",
     "output_type": "stream",
     "text": [
      "<SkyCoord (Galactocentric: galcen_coord=<ICRS Coordinate: (ra, dec) in deg\n",
      "    (266.4051, -28.936175)>, galcen_distance=8.3 kpc, galcen_v_sun=(11.1, 232.24, 7.25) km / s, z_sun=27.0 pc, roll=0.0 deg): (x, y, z) in pc\n",
      "    (-9705.90393436, -19999.29695439, -23617.26848039)\n",
      " (v_x, v_y, v_z) in km / s\n",
      "    (10.09655056, -150.84509215, 174.00683232)>\n"
     ]
    }
   ],
   "source": [
    "print(c.transform_to(coord.Galactocentric))"
   ]
  },
  {
   "cell_type": "code",
   "execution_count": null,
   "metadata": {},
   "outputs": [],
   "source": [
    "In our case, we do not know the heliocentric radial velocity. To examine the impact of this uncertaintly, we loop through several values of the radial velocity and re-calculate the Gal"
   ]
  },
  {
   "cell_type": "code",
   "execution_count": 23,
   "metadata": {},
   "outputs": [
    {
     "name": "stdout",
     "output_type": "stream",
     "text": [
      "Heliocentric radial velocity: 10.0 km/s\n",
      "Galactocentric Cartesian velocity:\n",
      "(15.08539777, -79.87984489, 257.9058495) km / s\n",
      "\n",
      "Heliocentric radial velocity: 30.0 km/s\n",
      "Galactocentric Cartesian velocity:\n",
      "(14.17833464, -92.78261712, 242.65148274) km / s\n",
      "\n",
      "Heliocentric radial velocity: 62.8 km/s\n",
      "Galactocentric Cartesian velocity:\n",
      "(12.69075111, -113.94316357, 217.63432125) km / s\n",
      "\n",
      "Heliocentric radial velocity: 90.0 km/s\n",
      "Galactocentric Cartesian velocity:\n",
      "(11.45714525, -131.4909338, 196.88838246) km / s\n",
      "\n",
      "Heliocentric radial velocity: 120.0 km/s\n",
      "Galactocentric Cartesian velocity:\n",
      "(10.09655056, -150.84509215, 174.00683232) km / s\n",
      "\n"
     ]
    }
   ],
   "source": [
    "for v in [10, 30, 62.8, 90, 120]:\n",
    "    kwargs.update(radial_velocity = v * u.km/u.s) \n",
    "    c = coord.SkyCoord(**kwargs)\n",
    "    print(\"Heliocentric radial velocity: %.1f km/s\"%v)\n",
    "    print(\"Galactocentric Cartesian velocity:\")\n",
    "    print(c.transform_to(coord.Galactocentric).velocity)\n",
    "    print()"
   ]
  },
  {
   "cell_type": "code",
   "execution_count": 18,
   "metadata": {},
   "outputs": [
    {
     "data": {
      "text/plain": [
       "<CartesianDifferential (d_x, d_y, d_z) in km / s\n",
       "    (10.09655056, -150.84509215, 174.00683232)>"
      ]
     },
     "execution_count": 18,
     "metadata": {},
     "output_type": "execute_result"
    }
   ],
   "source": [
    "c.transform_to(coord.Galactocentric).velocity"
   ]
  },
  {
   "cell_type": "code",
   "execution_count": null,
   "metadata": {},
   "outputs": [],
   "source": []
  }
 ],
 "metadata": {
  "anaconda-cloud": {},
  "kernelspec": {
   "display_name": "Python 3",
   "language": "python",
   "name": "python3"
  },
  "language_info": {
   "codemirror_mode": {
    "name": "ipython",
    "version": 3
   },
   "file_extension": ".py",
   "mimetype": "text/x-python",
   "name": "python",
   "nbconvert_exporter": "python",
   "pygments_lexer": "ipython3",
   "version": "3.6.6"
  }
 },
 "nbformat": 4,
 "nbformat_minor": 1
}
