{
 "cells": [
  {
   "cell_type": "markdown",
   "metadata": {},
   "source": [
    "# Two-Point Correlation Functions from Gaussian Random Fields\n",
    "\n",
    "This notebook is designed to examine two-point correlation functions for stellar streams. It builds off of a previous discussion of Gaussian Random Fields in the context of CCD fringing [here](https://github.com/kadrlica/sandbox/blob/master/notebooks/GaussianRandomFields.ipynb). The goal (assuming we do our math correctly) is that we should be able to define a power spectrum, generate a Gaussian Random Field from that power spectrum, calculate the 2-pt correlation function on that field, and get back the original power spectrum.\n",
    "\n",
    "**WARNING**: This is a work in progress, and it is not working yet..."
   ]
  },
  {
   "cell_type": "code",
   "execution_count": null,
   "metadata": {},
   "outputs": [],
   "source": [
    "import numpy as np\n",
    "import scipy\n",
    "import pylab as plt\n",
    "import scipy.ndimage as nd\n",
    "from functools import partial\n",
    "import scipy.interpolate\n",
    "import scipy.integrate"
   ]
  },
  {
   "cell_type": "code",
   "execution_count": null,
   "metadata": {},
   "outputs": [],
   "source": [
    "import treecorr"
   ]
  },
  {
   "cell_type": "code",
   "execution_count": null,
   "metadata": {},
   "outputs": [],
   "source": [
    "def PowerSpectrum(k, k0=0.1, alpha=-1.5):\n",
    "    \"\"\"Power spectrum of the form:\n",
    "    \n",
    "    P(k) = (k/k0)**alpha * np.exp(-(k/k0)**2)\n",
    "    \n",
    "    Parameters\n",
    "    ----------\n",
    "    k : wave number\n",
    "    k0 : scale wave number\n",
    "    alpha : slope of power law at small scales\n",
    "    \n",
    "    Returns\n",
    "    -------\n",
    "    P : power spectrum\n",
    "    \"\"\"\n",
    "    ksq = k**2\n",
    "    return (ksq/k0**2)**(alpha/2.) * np.exp(-ksq/k0**2)\n",
    "\n",
    "def x0_to_k0(x0, nx, ny):\n",
    "    return np.sqrt(x0**2/(nx*ny))\n",
    "\n",
    "def k0_to_x0(k0, nx, ny):\n",
    "    return np.sqrt(k0**2 * (nx*ny))"
   ]
  },
  {
   "cell_type": "code",
   "execution_count": null,
   "metadata": {},
   "outputs": [],
   "source": [
    "def kGaussianRandomField(Pk, nx=512, ny=512, seed=None):\n",
    "    \"\"\" Gaussian Random Field in k-space drawn from a power spectrum, P(k).\n",
    "    \n",
    "    Parameters\n",
    "    ----------\n",
    "    Pk : power spectrum, P(k)\n",
    "    nx : number of bins in x-space\n",
    "    ny : number of bins in y-space\n",
    "    seed: random seed\n",
    "    \n",
    "    Returns\n",
    "    -------\n",
    "    kx, ky, Ak : spacing in kx, ky and amplitude, Ak\n",
    "    \"\"\"\n",
    "    size = (nx,ny)\n",
    "\n",
    "    # Transform to k-space\n",
    "    kvx,kvy = np.fft.fftfreq(nx),np.fft.fftfreq(ny)\n",
    "    kx,ky = np.meshgrid(kvy, kvx, sparse=True, copy=False)\n",
    "\n",
    "    # Choose only real values of k\n",
    "    ksq = kx**2 + ky**2\n",
    "    m = ksq > 0\n",
    "\n",
    "    # Generate random numbers\n",
    "    gen = np.random.RandomState(seed=seed)\n",
    "    phase = 2 * np.pi * gen.uniform(size=size)\n",
    "    norm = gen.normal(size=size)\n",
    "\n",
    "    Ak = np.zeros(size,complex)\n",
    "    Ak[m] = norm[m] * np.exp(1.j * phase[m]) * Pk(np.sqrt(ksq[m]))\n",
    "    return kx,ky,Ak"
   ]
  },
  {
   "cell_type": "code",
   "execution_count": null,
   "metadata": {},
   "outputs": [],
   "source": [
    "def GaussianRandomField(Pk, nx=512, ny=512):\n",
    "    \"\"\"Generate a Gaussian Random Field in real-space from a power spectrum, P(k)\n",
    "    \n",
    "    Parameters\n",
    "    ----------\n",
    "    Pk : Power spectrum P(k)\n",
    "    nx : x-dimension in real space\n",
    "    ny : y-dimension in real space\n",
    "    \n",
    "    Returns\n",
    "    -------\n",
    "    (kx,ky,Ak) : k-space components and normalization\n",
    "    (xx,yy,Ax) : real-space components and normalization\n",
    "    \"\"\"\n",
    "    xx,yy = np.meshgrid(np.arange(nx), np.arange(ny), sparse=True, copy=False)\n",
    "    kx,ky,Ak = kGaussianRandomField(Pk, nx, ny)\n",
    "    Ax = np.fft.ifft2(Ak)\n",
    "    return (kx,ky,Ak),(xx,yy,Ax)"
   ]
  },
  {
   "cell_type": "code",
   "execution_count": null,
   "metadata": {},
   "outputs": [],
   "source": [
    "# fftfreq doesn't sort output, so hard to plot\n",
    "def draw_kspace(kx, ky, Ak, **kwargs):\n",
    "    \"\"\" Plot the real component of the Gaussian Random Field in k-space.\n",
    "    \n",
    "    Parameters\n",
    "    ----------\n",
    "    kx, ky : k-space dimensions\n",
    "    Ak : k-space amplitude\n",
    "    kwargs : passed to matplotlib pcolormesh\n",
    "    \n",
    "    Returns\n",
    "    -------\n",
    "    None\n",
    "    \"\"\"\n",
    "    kwargs.setdefault('vmin',-1)\n",
    "    kwargs.setdefault('vmax',1)\n",
    "    \n",
    "    idx_kx = np.argsort(kx,axis=1)\n",
    "    idx_ky = np.argsort(ky,axis=0)\n",
    "\n",
    "    ax = plt.gca()\n",
    "    im = ax.pcolormesh(kx[0,idx_kx],ky[idx_ky],Ak[idx_kx,idx_ky].real,**kwargs)\n",
    "    plt.colorbar(im, ax=ax);\n",
    "    ax.set_title(\"$k$-space (real)\")\n",
    "    ax.set_xlim(kx.min(),kx.max()); ax.set_ylim(ky.min(),ky.max())\n",
    "    plt.xlabel('$k_x$') \n",
    "    plt.ylabel('$k_y$')"
   ]
  },
  {
   "cell_type": "code",
   "execution_count": null,
   "metadata": {},
   "outputs": [],
   "source": [
    "def draw_xspace(xx, yy, Ax, **kwargs):\n",
    "    \"\"\" Plot the real component of the Gaussian Random Field in x-space.\n",
    "    \n",
    "    Parameters\n",
    "    ----------\n",
    "    xx, yy : position-space dimensions\n",
    "    Ax : position-space amplitude\n",
    "    kwargs : passed to matplotlib pcolormesh\n",
    "    \n",
    "    Returns\n",
    "    -------\n",
    "    None\n",
    "    \"\"\"\n",
    "    ax = plt.gca()\n",
    "    im = ax.pcolormesh(xx,yy,Ax.real,**kwargs); plt.colorbar(im, ax=ax)\n",
    "    ax.set_xlim(xx.min(),xx.max()); ax.set_ylim(yy.min(),yy.max())\n",
    "    ax.set_title(\"$x$-space (real)\")\n",
    "    ax.set_xlabel('$x$'); ax.set_ylabel('$y$')"
   ]
  },
  {
   "cell_type": "code",
   "execution_count": null,
   "metadata": {},
   "outputs": [],
   "source": [
    "def draw_power_spectrum(kx, ky, Ak):\n",
    "    \"\"\" Draw the power spectrum in k-space.\n",
    "    \n",
    "    Parameters\n",
    "    ----------\n",
    "    kx, ky : k-space dimensions\n",
    "    Ak : k-space amplitude\n",
    "\n",
    "    Returns\n",
    "    -------\n",
    "    None\n",
    "    \"\"\"\n",
    "    ksq = kx**2 + ky**2\n",
    "\n",
    "    bins = np.linspace(ksq.min(),ksq.max(),100)\n",
    "    centers = (bins[1:]+bins[:-1])/2.\n",
    "    labels = np.digitize(ksq,bins)\n",
    "\n",
    "    # Take the complex conjugate of the k-space matrix\n",
    "    Ak_sq = np.abs(Ak)**2\n",
    "    index = np.unique(labels)\n",
    "    mean = nd.mean(Ak_sq.flatten(),labels=labels.flatten(),index=index)\n",
    "\n",
    "    ax = plt.gca()\n",
    "    ax.set_xscale('log'); ax.set_yscale('log')\n",
    "    ax.plot(bins, mean, label='Random Generation')\n",
    "    ax.set_xlabel(r'$k^2$'); \n",
    "    ax.set_ylabel(r'$ \\langle |A(k)|^2 \\rangle$')\n",
    "    ax.set_title(\"Power Spectrum\")\n",
    "    ax.legend()"
   ]
  },
  {
   "cell_type": "code",
   "execution_count": null,
   "metadata": {},
   "outputs": [],
   "source": [
    "# Create and draw the power spectrum\n",
    "Pk = partial(PowerSpectrum, k0=0.1, alpha=-1.5)\n",
    "(kx,ky,Ak),(xx,yy,Ax) = GaussianRandomField(Pk)\n",
    "\n",
    "k = np.sqrt(np.logspace(-3,-0.3,100))\n",
    "\n",
    "fig,ax = plt.subplots(1,3,figsize=(20,4))\n",
    "plt.sca(ax[0]); draw_power_spectrum(kx, ky, Ak)\n",
    "plt.loglog(k**2, Pk(k)**2, label='$P(k)^2$'); plt.legend()\n",
    "plt.sca(ax[1]); draw_kspace(kx,ky,Ak)\n",
    "plt.sca(ax[2]); draw_xspace(xx,yy,Ax)"
   ]
  },
  {
   "cell_type": "markdown",
   "metadata": {},
   "source": [
    "### Comparing Power Spectrum to 2pt Density Correlation Function\n",
    "\n",
    "To complete the loop, we would like to be able to compare the power spectrum to the 2D, 2pt correlation function. Ideally, we'd be able to analytically predict one from the other and then validate on the measurement.\n",
    "\n",
    "Following some random reference from Martin White [here](http://mwhite.berkeley.edu/DES/two_point.pdf), the dimensionaless (3D) power spectrum:\n",
    "\n",
    "$ \\Delta^2(k) \\equiv \\frac{k^3 P(k)}{2\\pi^2}$\n",
    "\n",
    "\n",
    "$ \\xi(r) \\equiv \\int \\frac{dk}{k} \\Delta^2(k) j_0(kr) = \\int \\frac{dk}{k} \\frac{k^3 P(k)}{2\\pi^2} \\frac{sin(kr)}{kr} = \\frac{1}{2\\pi^2} \\int dk k^2 P(k) \\frac{sin(kr)}{kr}$\n",
    "\n",
    "The power spectrum is commonly understood as the Fourier transform of the autocorrelation function, $\\xi(r)$, such that:\n",
    "\n",
    "$\\xi(r) = \\int \\frac{d^3 k}{(2\\pi)^3} P(k) e^{i {\\bf k} \\cdot {\\bf r}} $"
   ]
  },
  {
   "cell_type": "markdown",
   "metadata": {},
   "source": [
    "We will start by calculating the 2pt density correlation using the Gaussian random rield and a uniform random field. For the analysis of real data, we may want to do this directly on the points (i.e., galaxies or stars) rather than the field, so we'll explore that later."
   ]
  },
  {
   "cell_type": "code",
   "execution_count": null,
   "metadata": {},
   "outputs": [],
   "source": [
    "# Build the treecorr catalogs\n",
    "_xx,_yy = np.meshgrid(xx.flat,yy.flat)\n",
    "\n",
    "# Random uniform field\n",
    "Ar = np.random.uniform(low=Ax.real.min(), high=Ax.real.max(), size=_xx.shape)\n",
    "\n",
    "cat = treecorr.Catalog(x=_xx.flat,y=_yy.flat,k=Ax.real.flat)\n",
    "rand = treecorr.Catalog(x=_xx.flat,y=_yy.flat,k=Ar.flat)\n",
    "\n",
    "# Calculate the correlation functions\n",
    "kwargs = dict(nbins=50, min_sep=1, max_sep=1024)\n",
    "kk = treecorr.KKCorrelation(**kwargs)\n",
    "kk.process(cat)\n",
    "rr = treecorr.KKCorrelation(**kwargs)\n",
    "rr.process(rand)\n",
    "sep = np.exp(kk.meanlogr)"
   ]
  },
  {
   "cell_type": "code",
   "execution_count": null,
   "metadata": {},
   "outputs": [],
   "source": [
    "fig, ax = plt.subplots(1,3, figsize=(18,6))\n",
    "\n",
    "ax[0].pcolormesh(Ax.real); ax[0].set_title('Gaussian Random Field')\n",
    "ax[1].pcolormesh(Ar.real); ax[1].set_title('Uniform Random Field')\n",
    "ax[2].loglog(sep, kk.xi, label=\"Gaussian Random Field\")\n",
    "ax[2].loglog(sep, rr.xi, label=\"Uniform Random Field\")\n",
    "ax[2].set_title(\"Correlation Function\")\n",
    "ax[2].set_xlabel(\"Separation (pix)\"); ax[2].set_ylabel(r\"$\\xi(r)$\")\n",
    "ax[2].legend(fontsize=10)"
   ]
  },
  {
   "cell_type": "markdown",
   "metadata": {},
   "source": [
    "To compare the 2D, 2pt correlation function to the power spectrum, we will need to do some integrals...."
   ]
  },
  {
   "cell_type": "code",
   "execution_count": null,
   "metadata": {},
   "outputs": [],
   "source": [
    "# Let's try calculating the fourier transform of the power spectrum\n",
    "def integrand3d(k, r=10):\n",
    "    # 1/2*pi**2 * k**2 * P(k) * sin(kr)/kr\n",
    "    return (1/(2*np.pi**2)) *  k**2 * Pk(k) * np.sin(k*r)/k*r\n",
    "    \n",
    "def integrand2d(k, r=10):\n",
    "    # Let's try a guess at the 2D fourier transform\n",
    "    # 1/2*pi * k * P(k) * sin(kr)/kr\n",
    "    return (1/(2*np.pi)) *  k * Pk(k) * np.sin(k*r)/k*r\n",
    "\n",
    "#xi_r = np.array([scipy.integrate.quad(integrand2d,k.min(),k.max(),args=(_r))[0] for _r in sep])\n",
    "r_range = np.logspace(np.log10(sep.min()), np.log10(sep.max()), 100)\n",
    "xi_r = np.array([scipy.integrate.quad(integrand2d,k.min(),k.max(),args=(_r))[0] for _r in r_range])"
   ]
  },
  {
   "cell_type": "code",
   "execution_count": null,
   "metadata": {},
   "outputs": [],
   "source": [
    "# Ok, so how did we do...?\n",
    "\n",
    "# First attempt, assuming, we really have xi(r)\n",
    "plt.figure()\n",
    "plt.loglog(sep,kk.xi, '-')\n",
    "plt.loglog(r_range,xi_r)\n",
    "plt.ylabel(r'$\\xi(r)$'); plt.xlabel(r'$r$')\n",
    "\n",
    "# Ok, maybe we have xi_r * r**2?\n",
    "plt.figure()\n",
    "plt.loglog(sep,kk.xi, '-')\n",
    "plt.loglog(r_range,xi_r/r_range**2)\n",
    "plt.ylabel(r'$\\xi(r)$'); plt.xlabel(r'$r$')\n",
    "\n",
    "# Ok, maybe there is more we are missing...\n",
    "plt.figure()\n",
    "plt.loglog(sep,kk.xi, '-')\n",
    "plt.loglog(2.3*r_range, 1/(10*15) * xi_r/(r_range)**2)\n",
    "plt.ylabel(r'$\\xi(r)$'); plt.xlabel(r'$r$')"
   ]
  },
  {
   "cell_type": "code",
   "execution_count": null,
   "metadata": {},
   "outputs": [],
   "source": [
    "# Build an interpolation for the 2pt correlation function\n",
    "interp = scipy.interpolate.interp1d(sep, kk.xi)\n",
    "x = np.linspace(sep.min(), sep.max(),1000)\n",
    "plt.figure()\n",
    "plt.loglog(sep,kk.xi, 'o')\n",
    "plt.loglog(x, interp(x),'-')\n",
    "plt.xlabel(\"Separation (pix)\"); plt.ylabel(r\"$\\xi$\")\n",
    "plt.title(\"2pt Correlation Function Interpolation\")"
   ]
  },
  {
   "cell_type": "code",
   "execution_count": null,
   "metadata": {},
   "outputs": [],
   "source": [
    "# Define the integrand\n",
    "def func(r,k=0.1):\n",
    "    return np.sqrt(2/np.pi) * interp(r) * r**2 * np.sin(k*r)/k*r\n"
   ]
  },
  {
   "cell_type": "code",
   "execution_count": null,
   "metadata": {},
   "outputs": [],
   "source": [
    "plot_power_spectrum(xx,yy,Ax)"
   ]
  },
  {
   "cell_type": "markdown",
   "metadata": {},
   "source": [
    "\n",
    "\n"
   ]
  },
  {
   "cell_type": "code",
   "execution_count": null,
   "metadata": {},
   "outputs": [],
   "source": [
    "_kx,_ky = np.meshgrid(kx.flat,ky.flat)\n",
    "cat = treecorr.Catalog(x=_kx.flat,y=_ky.flat,k=Ak.real.flat)\n",
    "\n",
    "kwargs = dict(nbins=25, min_sep=0.01, max_sep=1)\n",
    "kk = treecorr.KKCorrelation(**kwargs)\n",
    "kk.process(cat)\n",
    "\n",
    "xi = kk.xi  \n",
    "sep = np.exp(kk.meanlogr)\n",
    "\n",
    "plt.figure()\n",
    "plt.loglog(sep,xi)\n",
    "plt.xlabel(\"Separation (pix)\"); plt.ylabel(r\"$\\xi$\")"
   ]
  },
  {
   "cell_type": "markdown",
   "metadata": {},
   "source": [
    "### Correlation function from points\n",
    "\n",
    "For the analysis of a small number of points (e.g., galaxies or stars), we may want to calculate the 2D, 2pt correlation function directly for the positions of those points rather than from the density field. Let's try to do that here."
   ]
  },
  {
   "cell_type": "code",
   "execution_count": null,
   "metadata": {},
   "outputs": [],
   "source": [
    "# Generation random points from a Poisson draw of the Gaussian Random field\n",
    "mean = 1.0\n",
    "lam = mean + Ax.real\n",
    "counts = np.random.poisson(lam=lam, size=Ax.shape)\n",
    "print(f\"Simulated {counts.sum()} points.\")\n",
    "plt.imshow(counts)\n",
    "plt.colorbar()"
   ]
  },
  {
   "cell_type": "code",
   "execution_count": null,
   "metadata": {},
   "outputs": [],
   "source": [
    "# Generate the uniform randoms\n",
    "_xx,_yy = np.meshgrid(xx.flat,yy.flat)\n",
    "x = np.repeat(_xx.flatten(),counts.flatten())\n",
    "y = np.repeat(_yy.flatten(),counts.flatten())\n",
    "rand_x = np.random.uniform(xx.min(),xx.max(),size=len(x))\n",
    "rand_y = np.random.uniform(yy.min(),yy.max(),size=len(y))\n",
    "\n",
    "print(\"Array size:\", len(counts.flat))\n",
    "print(\"Number of counts:\", counts.sum())\n",
    "print(\"Number of points:\", len(x),len(y))\n",
    "print(\"Number of randoms:\", len(rand_x),len(rand_y))"
   ]
  },
  {
   "cell_type": "code",
   "execution_count": null,
   "metadata": {},
   "outputs": [],
   "source": [
    "# Create catalogs of data and randoms\n",
    "cat  = treecorr.Catalog(x=x, y=y)\n",
    "rand = treecorr.Catalog(x=rand_x, y=rand_y)\n",
    "\n",
    "kwargs = dict(nbins=25, min_sep=1, max_sep=1024)\n",
    "dd = treecorr.NNCorrelation(**kwargs)\n",
    "dd.process(cat)\n",
    "rr = treecorr.NNCorrelation(**kwargs)\n",
    "rr.process(rand)\n",
    "dr = treecorr.NNCorrelation(**kwargs)\n",
    "dr.process(cat,rand)\n",
    "xi,varxi = dd.calculateXi(rr=rr,dr=dr)\n",
    "\n",
    "sep = np.exp(dd.meanlogr)\n",
    "\n",
    "plt.figure()\n",
    "plt.loglog(sep,xi)\n",
    "plt.xlabel(\"Separation (pix)\"); plt.ylabel(r\"$\\xi$\")"
   ]
  },
  {
   "cell_type": "code",
   "execution_count": null,
   "metadata": {},
   "outputs": [],
   "source": [
    "# Reminder: np.random.multinomial()"
   ]
  }
 ],
 "metadata": {
  "kernelspec": {
   "display_name": "Python 3",
   "language": "python",
   "name": "python3"
  },
  "language_info": {
   "codemirror_mode": {
    "name": "ipython",
    "version": 3
   },
   "file_extension": ".py",
   "mimetype": "text/x-python",
   "name": "python",
   "nbconvert_exporter": "python",
   "pygments_lexer": "ipython3",
   "version": "3.7.7"
  }
 },
 "nbformat": 4,
 "nbformat_minor": 4
}
