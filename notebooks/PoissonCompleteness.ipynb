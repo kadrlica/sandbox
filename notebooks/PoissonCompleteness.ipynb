{
 "cells": [
  {
   "cell_type": "code",
   "execution_count": 1,
   "metadata": {
    "collapsed": false
   },
   "outputs": [
    {
     "name": "stderr",
     "output_type": "stream",
     "text": [
      "\n",
      "Bad key \"axes.prop_cycle\" on line 226 in\n",
      "/Users/kadrlica/.matplotlib/matplotlibrc.\n",
      "You probably need to get an updated matplotlibrc file from\n",
      "http://matplotlib.sf.net/_static/matplotlibrc or from the matplotlib source\n",
      "distribution\n"
     ]
    }
   ],
   "source": [
    "%matplotlib inline\n",
    "import numpy as np\n",
    "from scipy import stats\n",
    "import pylab as plt\n",
    "from scipy.optimize import brentq"
   ]
  },
  {
   "cell_type": "code",
   "execution_count": 2,
   "metadata": {
    "collapsed": false
   },
   "outputs": [],
   "source": [
    "def signal2noise(sig,bkg=0):\n",
    "    \"\"\"Signal-to-noise ratio (SNR) for given signal (and background)\"\"\"\n",
    "    return sig/np.sqrt(sig+bkg)\n",
    "\n",
    "def signal(snr,bkg=0):\n",
    "    \"\"\"Signal for give SNR (and background):\n",
    "    sig**2 - snr**2 * sig - snr**2 * bkg = 0\n",
    "    sig = (-b +/- sqrt(b**2 -4*a*c)))/2a\n",
    "    \"\"\"\n",
    "    # Use the quadratic formula\n",
    "    return (snr**2 + np.sqrt(snr**4 + 4 * snr**2 * bkg))/2."
   ]
  },
  {
   "cell_type": "code",
   "execution_count": 3,
   "metadata": {
    "collapsed": false
   },
   "outputs": [
    {
     "name": "stdout",
     "output_type": "stream",
     "text": [
      "SNR: 5\n",
      "BKG: 5000\n",
      "SIG: 366.274292452\n",
      "MU: 5366.27429245\n",
      "SNR: 5.0\n"
     ]
    }
   ],
   "source": [
    "# Desired snr threshold\n",
    "SNR = 5\n",
    "# Expected background counts\n",
    "#BKG = 500\n",
    "BKG = 5000\n",
    "# Required signal counts\n",
    "SIG = signal(SNR,BKG)\n",
    "# Expected total number of counts\n",
    "MU = SIG + BKG\n",
    "\n",
    "print \"SNR:\",SNR\n",
    "print \"BKG:\",BKG\n",
    "print \"SIG:\",SIG\n",
    "print \"MU:\",MU\n",
    "print \"SNR:\",signal2noise(SIG,BKG)"
   ]
  },
  {
   "cell_type": "code",
   "execution_count": 4,
   "metadata": {
    "collapsed": true
   },
   "outputs": [],
   "source": [
    "def complete(sig,bkg=BKG,mu=MU):\n",
    "    \"\"\"Completeness, calculated as the probability of getting more \n",
    "    than MU counts for an input signal with strength 'sig'.\"\"\"\n",
    "    return 1 - stats.poisson.cdf(mu,sig+bkg)\n",
    "\n",
    "def fn(sig,frac=0.95):\n",
    "    \"\"\"Completeness limit fitting function\"\"\"\n",
    "    return complete(sig) - frac\n",
    "\n",
    "def climit(frac=0.95):\n",
    "    return brentq(fn,0,3*SIG,args=(frac,))"
   ]
  },
  {
   "cell_type": "code",
   "execution_count": 5,
   "metadata": {
    "collapsed": false
   },
   "outputs": [
    {
     "name": "stdout",
     "output_type": "stream",
     "text": [
      "95% completeness limit: SIG=488.07, SNR=6.59, DMAG=-0.31\n",
      "90% completeness limit: SIG=461.10, SNR=6.24, DMAG=-0.25\n",
      "50% completeness limit: SIG=366.67, SNR=5.01, DMAG=-0.00\n"
     ]
    }
   ],
   "source": [
    "# Calculate the completeness limit\n",
    "for q in [0.95,0.90,0.5]:\n",
    "    c = climit(q)\n",
    "    print '%i%% completeness limit: SIG=%.2f,'%(100*q, c),\n",
    "    print 'SNR=%.2f,'%(signal2noise(c,BKG)),\n",
    "    print 'DMAG=%.2f'%(-2.5*np.log10(c/SIG))"
   ]
  },
  {
   "cell_type": "code",
   "execution_count": 6,
   "metadata": {
    "collapsed": false
   },
   "outputs": [
    {
     "name": "stdout",
     "output_type": "stream",
     "text": [
      "mag(C=95%)  - mag(S/N=5): -0.31\n",
      "mag(S/N=10) - mag(C=95%): -0.48\n",
      "mag(S/N=10) - mag(S/N=5): -0.79\n"
     ]
    }
   ],
   "source": [
    "# Calculate the signal flux for S/N = 10\n",
    "sig = signal(10,BKG)\n",
    "\n",
    "# Calculate the magnitude differences\n",
    "print 'mag(C=95%%)  - mag(S/N=5): %.2f'%(-2.5*np.log10(climit(0.95)/SIG))\n",
    "print 'mag(S/N=10) - mag(C=95%%): %.2f'%(-2.5*np.log10(sig/climit(0.95)))\n",
    "print 'mag(S/N=10) - mag(S/N=5): %.2f'%(-2.5*np.log10(sig/SIG))"
   ]
  },
  {
   "cell_type": "markdown",
   "metadata": {},
   "source": [
    "The conclusion from this is that the 95% completeness limit should be about 0.3 mag brighter than the S/N = 5 detection threshold (or 0.5 mag brighter than a S/N = 3 threshold). The difference in magnitude between the S/N = 5 detection threshold and the 95% completeness limit appears to be pretty insensitive to the number of background sources. In contrast, the magnitude difference between the 95% completeness limit and the S/N = 10 magnitude limit does depend on the background, ranging from -1.0 for low background analyses to -0.5 for background dominated analyses."
   ]
  },
  {
   "cell_type": "code",
   "execution_count": 7,
   "metadata": {
    "collapsed": false
   },
   "outputs": [
    {
     "data": {
      "text/plain": [
       "<matplotlib.text.Text at 0x1107c79d0>"
      ]
     },
     "execution_count": 7,
     "metadata": {},
     "output_type": "execute_result"
    },
    {
     "data": {
      "image/png": "[encoded data removed]",
      "text/plain": [
       "<matplotlib.figure.Figure at 0x10e78ac90>"
      ]
     },
     "metadata": {},
     "output_type": "display_data"
    }
   ],
   "source": [
    "# Scan in the signal strength\n",
    "scan = np.linspace(0,3*SIG,1e3)\n",
    "\n",
    "plt.plot(scan,complete(scan))\n",
    "plt.axhline(0.95,ls='--',color='k')\n",
    "plt.axvline(climit(0.95),ls='--',color='k')\n",
    "\n",
    "plt.xlim(0,2*SIG)\n",
    "plt.xlabel(\"Signal Strength\",fontsize=14)\n",
    "plt.ylabel(\"Completeness\",fontsize=14)"
   ]
  }
 ],
 "metadata": {
  "kernelspec": {
   "display_name": "Python 2",
   "language": "python",
   "name": "python2"
  },
  "language_info": {
   "codemirror_mode": {
    "name": "ipython",
    "version": 2
   },
   "file_extension": ".py",
   "mimetype": "text/x-python",
   "name": "python",
   "nbconvert_exporter": "python",
   "pygments_lexer": "ipython2",
   "version": "2.7.8"
  }
 },
 "nbformat": 4,
 "nbformat_minor": 0
}
