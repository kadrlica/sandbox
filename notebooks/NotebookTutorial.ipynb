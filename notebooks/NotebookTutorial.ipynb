{
 "cells": [
  {
   "cell_type": "markdown",
   "metadata": {},
   "source": [
    "# Introduction\n",
    "\n",
    "This notebook is a tutorial for using ipython notebooks. This is not comprehensive documentation (that can be found [here](https://ipython.org/ipython-doc/3/notebook/)), but rather just some things that I have found to be useful in my day to day work.\n",
    "\n",
    "### Why use a notebook?\n",
    "\n",
    "In my experience, ipython notebooks are great for bridging the gap between sending someone a plot and sending someone the code to make a plot. Notebooks provide a way to simultaneously share and explain code, as well as offering a semi-permanent medium for presenting and reproducing an analysis."
   ]
  },
  {
   "cell_type": "markdown",
   "metadata": {},
   "source": [
    "# Installation\n",
    "\n",
    "By far the easiest method that I've seen for installing ipython is through `conda` (either the fully featured [`anaconda`](https://anaconda.org/) or the ligher [`miniconda`](https://conda.io/miniconda.html) ). If you already have `conda` installed, you can skip this step.\n",
    "\n",
    "1. Install `miniconda` from https://conda.io/miniconda.html\n",
    "```\n",
    "> wget https://repo.continuum.io/miniconda/Miniconda2-latest-MacOSX-x86_64.sh \n",
    "> bash Miniconda2-latest-MacOSX-x86_64.sh\n",
    "```\n",
    "I would respond \"no\" to the question\n",
    "```\n",
    "Do you wish the installer to prepend the Miniconda2 install location\n",
    "to PATH in your $HOME/.bash_profile ? [yes|no]\n",
    "```\n",
    "\n",
    "2. Export your `conda` install to your `$PATH`\n",
    "```\n",
    "> export PATH=<INSTALL_DIR>/bin:$PATH\n",
    "```\n",
    "3. Install `ipython` with `conda`\n",
    "```\n",
    "> conda create -n ipynb ipython jupyter numpy scipy matplotlib\n",
    "```"
   ]
  },
  {
   "cell_type": "markdown",
   "metadata": {
    "collapsed": true
   },
   "source": [
    "# Starting a Notebook\n",
    "\n",
    "To start an ipython notebook, first activate the environment that you created:\n",
    "```\n",
    "> export PATH=<INSTALL_DIR>/bin:$PATH # make sure conda is on your path\n",
    "> source activate ipynb\n",
    "```\n",
    "For newer version of `ipython` you can open a nobebook with the command:\n",
    "```\n",
    "> jupyter notebook\n",
    "```\n",
    "while for older installations the command is:\n",
    "```\n",
    "> ipython notebook\n",
    "```\n",
    "\n",
    "This will open a tab in the browser showing a listing of your current directory.\n",
    "\n",
    "<img src=\"NotebookImage.png\" width=\"900\">\n",
    "\n",
    "To open a new notebook, click \"New\"->\"Python 2\". This should drop you with a blank notebook... (and on to Ting's section of the presentation)."
   ]
  },
  {
   "cell_type": "markdown",
   "metadata": {},
   "source": [
    "# Share a Notebook\n",
    "\n",
    "There are a few ways to share a notebook:\n",
    "1. Save the notebook as a .ipynb file (\"File\"->\"Save and Checkpoint\") and send to somoene.\n",
    "2. Create an html file and post on your own website (\"File\"->\"Download As\"->\"Presentation (.html)\". You can find an example of a GitHub rendering of an .ipynb file [here](https://github.com/kadrlica/sandbox/blob/master/notebooks/GaussianRandomFields.ipynb)\n",
    "3. Upload your .ipynb file to GitHub and let GitHub render the file. (WARNING: GitHub is not optimal for storing a lot of plots that are updated frequently). You can find an example of an html rendering on a generic server [here](http://home.fnal.gov/~kadrlica/downloads/ReadoutNoise.html)\n"
   ]
  },
  {
   "cell_type": "markdown",
   "metadata": {},
   "source": [
    "# Running a Notebook Remotely\n",
    "\n",
    "One situation that I run into fairly frequently is that I am working on a remote machine and I would like to run an ipython notebook locally on that machine, but I don't way to port the web browser to my machine through an X-window. You can setup ipython to forward the notebook through ssh and then you can connect with your own browser. There is a good example of how to do this on [Coderwall](https://coderwall.com/p/ohk6cg/remote-access-to-ipython-notebooks-via-ssh):\n",
    "\n",
    "1. Start the notebook server on the remote host\n",
    "```\n",
    "> remote_user@remote_host$ ipython notebook --no-browser --port=8889\n",
    "```\n",
    "\n",
    "2. Start the ssh tunnel on your local machine\n",
    "```\n",
    "> local_user@local_host$ ssh -N -f -L localhost:8888:localhost:8889 remote_user@remote_host\n",
    "```\n",
    "\n",
    "3. To connect your *local* browser to the tunneled port, type `localhost:8888` in the browser address bar."
   ]
  },
  {
   "cell_type": "markdown",
   "metadata": {},
   "source": [
    "# Notebook Features\n",
    "\n",
    "Notebooks have a lot of nice features (many of which Ting and I probably don't know about). Here are a few that we've found useful.\n",
    "\n",
    "\n"
   ]
  },
  {
   "cell_type": "markdown",
   "metadata": {},
   "source": [
    "### Magic functions\n",
    "\n",
    "The ipython interface has a few magic functions, prefixed by '%', which can do nifty things. Some of our favorites are `%timeit` (timing the execution time of functions), `%run` (allows you to run a standalone python script within the interactive session), and various shell commands (i.e., `%env`, `%ls`, etc.)"
   ]
  },
  {
   "cell_type": "code",
   "execution_count": 6,
   "metadata": {
    "collapsed": false
   },
   "outputs": [
    {
     "name": "stdout",
     "output_type": "stream",
     "text": [
      "The slowest run took 6.70 times longer than the fastest. This could mean that an intermediate result is being cached.\n",
      "10000 loops, best of 3: 121 µs per loop\n"
     ]
    }
   ],
   "source": [
    "%timeit [i for i in range(1000)]"
   ]
  },
  {
   "cell_type": "markdown",
   "metadata": {},
   "source": [
    "### Shell commands\n",
    "\n",
    "You can call many shell commands directly the ipython prompt without an prefix."
   ]
  },
  {
   "cell_type": "code",
   "execution_count": 12,
   "metadata": {
    "collapsed": false
   },
   "outputs": [
    {
     "name": "stdout",
     "output_type": "stream",
     "text": [
      "/Users/kadrlica/software/sandbox\n"
     ]
    }
   ],
   "source": [
    "cd .."
   ]
  },
  {
   "cell_type": "markdown",
   "metadata": {},
   "source": [
    "However, you can get yourself into trouble here..."
   ]
  },
  {
   "cell_type": "code",
   "execution_count": 14,
   "metadata": {
    "collapsed": false
   },
   "outputs": [
    {
     "ename": "SyntaxError",
     "evalue": "invalid syntax (<ipython-input-14-5e171dc70a1a>, line 2)",
     "output_type": "error",
     "traceback": [
      "\u001b[0;36m  File \u001b[0;32m\"<ipython-input-14-5e171dc70a1a>\"\u001b[0;36m, line \u001b[0;32m2\u001b[0m\n\u001b[0;31m    cd ..\u001b[0m\n\u001b[0m        ^\u001b[0m\n\u001b[0;31mSyntaxError\u001b[0m\u001b[0;31m:\u001b[0m invalid syntax\n"
     ]
    }
   ],
   "source": [
    "cd = 3\n",
    "cd .."
   ]
  },
  {
   "cell_type": "markdown",
   "metadata": {},
   "source": [
    "You can always access the base shell commands by prefixing them with an exclamation point."
   ]
  },
  {
   "cell_type": "code",
   "execution_count": 16,
   "metadata": {
    "collapsed": true
   },
   "outputs": [],
   "source": [
    "!cd .."
   ]
  }
 ],
 "metadata": {
  "anaconda-cloud": {},
  "kernelspec": {
   "display_name": "Python 2",
   "language": "python",
   "name": "python2"
  },
  "language_info": {
   "codemirror_mode": {
    "name": "ipython",
    "version": 2
   },
   "file_extension": ".py",
   "mimetype": "text/x-python",
   "name": "python",
   "nbconvert_exporter": "python",
   "pygments_lexer": "ipython2",
   "version": "2.7.12"
  }
 },
 "nbformat": 4,
 "nbformat_minor": 0
}
